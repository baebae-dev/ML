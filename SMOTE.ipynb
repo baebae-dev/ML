{
 "cells": [
  {
   "cell_type": "code",
   "execution_count": 19,
   "id": "89390d72",
   "metadata": {},
   "outputs": [],
   "source": [
    "from sklearn.model_selection import train_test_split\n",
    "from sklearn.datasets import make_classification\n",
    "\n",
    "X, y = make_classification(n_samples=10000, n_features=2, n_redundant=0, n_clusters_per_class=1, weights=[0.99], flip_y=0, random_state=1)\n",
    "x_train, x_test, y_train, y_test = train_test_split(X, y, random_state=42)"
   ]
  },
  {
   "cell_type": "code",
   "execution_count": 22,
   "id": "d35ef7ea",
   "metadata": {},
   "outputs": [
    {
     "name": "stdout",
     "output_type": "stream",
     "text": [
      "오버샘플링 전 : (7500, 2) (7500,)\n",
      "\n",
      "오버샘플링 후 : (14848, 2) (14848,)\n",
      "\n",
      "오버샘플링 전 레이블 분포 :\n",
      " 0    7424\n",
      "1      76\n",
      "dtype: int64\n",
      "\n",
      "오버샘플링 후 레이블 분포 :\n",
      " 0    7424\n",
      "1    7424\n",
      "dtype: int64\n"
     ]
    }
   ],
   "source": [
    "from imblearn.over_sampling import SMOTE\n",
    "import pandas as pd\n",
    "\n",
    "smote = SMOTE(random_state=42)\n",
    "# train 데이터에서 오버샘플링 시키기\n",
    "x_train_over, y_train_over = smote.fit_resample(x_train, y_train)\n",
    "\n",
    "# 오버샘플링 적용 후 데이터 레이블 개수 살펴보기\n",
    "print('오버샘플링 전 :', x_train.shape, y_train.shape)\n",
    "print()\n",
    "print('오버샘플링 후 :', x_train_over.shape, y_train_over.shape)\n",
    "print()\n",
    "print('오버샘플링 전 레이블 분포 :\\n', pd.Series(y_train).value_counts())\n",
    "print()\n",
    "print('오버샘플링 후 레이블 분포 :\\n', pd.Series(y_train_over).value_counts())"
   ]
  }
 ],
 "metadata": {
  "kernelspec": {
   "display_name": "Python 3 (ipykernel)",
   "language": "python",
   "name": "python3"
  },
  "language_info": {
   "codemirror_mode": {
    "name": "ipython",
    "version": 3
   },
   "file_extension": ".py",
   "mimetype": "text/x-python",
   "name": "python",
   "nbconvert_exporter": "python",
   "pygments_lexer": "ipython3",
   "version": "3.10.8"
  }
 },
 "nbformat": 4,
 "nbformat_minor": 5
}
