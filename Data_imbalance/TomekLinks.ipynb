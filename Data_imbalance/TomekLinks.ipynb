{
 "cells": [
  {
   "cell_type": "code",
   "execution_count": 30,
   "id": "7f9e9089",
   "metadata": {},
   "outputs": [],
   "source": [
    "import pandas as pd\n",
    "import numpy as np\n",
    "from imblearn.pipeline import Pipeline\n",
    "import matplotlib.pyplot as plt\n",
    "from sklearn.datasets import make_classification\n",
    "from sklearn.model_selection import cross_validate\n",
    "from sklearn.model_selection import RepeatedStratifiedKFold\n",
    "from sklearn.ensemble import RandomForestClassifier\n",
    "from imblearn.combine import SMOTETomek\n",
    "from imblearn.under_sampling import TomekLinks"
   ]
  },
  {
   "cell_type": "code",
   "execution_count": 31,
   "id": "5d6cb044",
   "metadata": {},
   "outputs": [],
   "source": [
    "#Dummy dataset study case\n",
    "X, Y = make_classification(n_samples=10000, n_features=4, n_redundant=0,\n",
    "                           n_clusters_per_class=1, weights=[0.99], flip_y=0, random_state=1)"
   ]
  },
  {
   "cell_type": "markdown",
   "id": "6004a517",
   "metadata": {},
   "source": [
    "## No Imbalance Handling"
   ]
  },
  {
   "cell_type": "code",
   "execution_count": 33,
   "id": "6b664e31",
   "metadata": {},
   "outputs": [
    {
     "name": "stdout",
     "output_type": "stream",
     "text": [
      "Mean Accuracy: 0.9943\n",
      "Mean Precision: 0.9407\n",
      "Mean Recall: 0.7480\n"
     ]
    }
   ],
   "source": [
    "\n",
    "# Define model\n",
    "model_ori=RandomForestClassifier(criterion='entropy')\n",
    "# Define evaluation procedure (here we use Repeated Stratified K-Fold CV)\n",
    "cv_ori=RepeatedStratifiedKFold(n_splits=10, n_repeats=3, random_state=1)\n",
    "# Evaluate model\n",
    "scoring=['accuracy','precision_macro','recall_macro']\n",
    "scores_ori = cross_validate(model_ori, X, Y, scoring=scoring, cv=cv_ori, n_jobs=-1)\n",
    "# summarize performance\n",
    "print('Mean Accuracy: %.4f' % np.mean(scores_ori['test_accuracy']))\n",
    "print('Mean Precision: %.4f' % np.mean(scores_ori['test_precision_macro']))\n",
    "print('Mean Recall: %.4f' % np.mean(scores_ori['test_recall_macro']))"
   ]
  },
  {
   "cell_type": "markdown",
   "id": "9a03580c",
   "metadata": {},
   "source": [
    "## With SMOTE-Tomek Links method"
   ]
  },
  {
   "cell_type": "code",
   "execution_count": 34,
   "id": "c1a3f7d9",
   "metadata": {},
   "outputs": [
    {
     "name": "stdout",
     "output_type": "stream",
     "text": [
      "Mean Accuracy: 0.9806\n",
      "Mean Precision: 0.6485\n",
      "Mean Recall: 0.8368\n"
     ]
    }
   ],
   "source": [
    "# Define model\n",
    "model=RandomForestClassifier(criterion='entropy')\n",
    "# Define SMOTE-Tomek Links\n",
    "resample=SMOTETomek(tomek=TomekLinks(sampling_strategy='majority'))\n",
    "# Define pipeline\n",
    "pipeline=Pipeline(steps=[('r', resample), ('m', model)])\n",
    "# Define evaluation procedure (here we use Repeated Stratified K-Fold CV)\n",
    "cv=RepeatedStratifiedKFold(n_splits=10, n_repeats=3, random_state=1)\n",
    "# Evaluate model\n",
    "scoring=['accuracy','precision_macro','recall_macro']\n",
    "scores = cross_validate(pipeline, X, Y, scoring=scoring, cv=cv, n_jobs=-1)\n",
    "# summarize performance\n",
    "print('Mean Accuracy: %.4f' % np.mean(scores['test_accuracy']))\n",
    "print('Mean Precision: %.4f' % np.mean(scores['test_precision_macro']))\n",
    "print('Mean Recall: %.4f' % np.mean(scores['test_recall_macro']))"
   ]
  }
 ],
 "metadata": {
  "kernelspec": {
   "display_name": "Python 3 (ipykernel)",
   "language": "python",
   "name": "python3"
  },
  "language_info": {
   "codemirror_mode": {
    "name": "ipython",
    "version": 3
   },
   "file_extension": ".py",
   "mimetype": "text/x-python",
   "name": "python",
   "nbconvert_exporter": "python",
   "pygments_lexer": "ipython3",
   "version": "3.10.8"
  }
 },
 "nbformat": 4,
 "nbformat_minor": 5
}
